{
  "nbformat": 4,
  "nbformat_minor": 0,
  "metadata": {
    "colab": {
      "provenance": [],
      "authorship_tag": "ABX9TyNEXtTomjFnUUVno/cfeSrn",
      "include_colab_link": true
    },
    "kernelspec": {
      "name": "python3",
      "display_name": "Python 3"
    },
    "language_info": {
      "name": "python"
    }
  },
  "cells": [
    {
      "cell_type": "markdown",
      "metadata": {
        "id": "view-in-github",
        "colab_type": "text"
      },
      "source": [
        "<a href=\"https://colab.research.google.com/github/MariaCamila07/Act1/blob/main/CordobaMariaCamila_A00412038.ipynb\" target=\"_parent\"><img src=\"https://colab.research.google.com/assets/colab-badge.svg\" alt=\"Open In Colab\"/></a>"
      ]
    },
    {
      "cell_type": "markdown",
      "source": [
        "#Autobiografía:\n",
        ">Mi nombre es María Camila Córdoba, tengo 17 años, y desde niña, siempre me ha gustado la tecnología y la creatividad. Por eso, decidí estudiar Ingeniería de Sistemas, donde aprendo sobre desarrollo de software, hardware y diseño 3D. Me interesa crear personajes, mundos y efectos visuales.\n",
        "\n",
        ">Además de la tecnología, me encanta el arte. Estoy retomando el piano con la meta de tocar a nivel profesional y también estoy aprendiendo a tocar guitarra eléctrica por mi cuenta.\n",
        "\n",
        ">Me gusta aprender cosas nuevas, especialmente idiomas. Ya sé inglés y me gustaria aprender alemán en la universidad. En el futuro, quiero aprender otros dos idiomas que me sirvan para mi carrera y que suenen bien.\n",
        "\n",
        ">En mi día a día, estudio, veo mcuhas series y aprendo a cocinar. Disfruto mejorar en cada área y combinar la lógica de la ingeniería con la creatividad del arte.\n",
        "\n",
        "<img src = https://upload.wikimedia.org/wikipedia/commons/thumb/5/51/Nelumno_nucifera_open_flower_-_botanic_garden_adelaide.jpg/1200px-Nelumno_nucifera_open_flower_-_botanic_garden_adelaide.jpg>\n",
        "\n",
        "#Listado de canciones:\n",
        "1. Cancion: Earth Song\n",
        "  * Artista: *Michael Jackson*\n",
        "    * Compositor: *Michael Jackson*\n",
        "2. Cancion: Without Me\n",
        "  * Artista: *Eminem*\n",
        "    * Compositor: *Jeff Bass*\n",
        "3. Cancion: Pump It\n",
        "  * Artista: *Black Eye Peas*\n",
        "    * Compositor: *William Adams*\n",
        "4. Cancion: Paparazzi\n",
        "  * Artista: *Lady Gaga*\n",
        "    * Compositor: *Rob Fusari*\n",
        "5. Cancion: Love Grows\n",
        "  * Artista: *Edison Lighthouse*\n",
        "    * Compositor: *Tony Macaulay*\n",
        "  \n",
        "#Asignaturas:\n",
        "\n",
        "| Matematicas Aplicadas                                                     | Algoritmos y programación                             | Ingenieria de Software|\n",
        "|---------------------------------------------------------------------------|------------------------------------------------------|-----------------------------------------------------------------------------|\n",
        "| Me gusta ya que se me hace muy interesante el tema de las redes neuronales| Me gusta porque estamos empezando a programar en Java | Me gusta mucho aprender sobre los desafias en el desarrollo de software |"
      ],
      "metadata": {
        "id": "LvY3Un4w-21I"
      }
    }
  ]
}